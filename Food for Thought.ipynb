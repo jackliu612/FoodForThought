{
 "cells": [
  {
   "cell_type": "code",
   "execution_count": 2,
   "metadata": {},
   "outputs": [],
   "source": [
    "from bs4 import BeautifulSoup\n",
    "import pandas as pd"
   ]
  },
  {
   "cell_type": "code",
   "execution_count": 3,
   "metadata": {},
   "outputs": [],
   "source": [
    "with open(\"Transaction History.html\") as fp:\n",
    "    soup = BeautifulSoup(fp)"
   ]
  },
  {
   "cell_type": "code",
   "execution_count": 4,
   "metadata": {},
   "outputs": [],
   "source": [
    "rows = soup.find('div', id='divHist').find('tbody').find_all('tr')"
   ]
  },
  {
   "cell_type": "code",
   "execution_count": 6,
   "metadata": {},
   "outputs": [],
   "source": [
    "post_date = []\n",
    "loc = []\n",
    "typ = []\n",
    "amt = []\n",
    "\n",
    "for i in range(1,len(rows)):\n",
    "    process_row(rows[i])"
   ]
  },
  {
   "cell_type": "code",
   "execution_count": null,
   "metadata": {},
   "outputs": [],
   "source": [
    "def process_rows(row):\n",
    "    cell = rows[i].find_all('td')\n",
    "    post_date.append(cell[0].string.strip())\n",
    "    loc.append(cell[1].string.strip())\n",
    "    typ.append(cell[3].string.strip())\n",
    "    amt.append(cell[4].string.strip())"
   ]
  },
  {
   "cell_type": "code",
   "execution_count": 7,
   "metadata": {},
   "outputs": [
    {
     "data": {
      "text/html": [
       "<div>\n",
       "<style scoped>\n",
       "    .dataframe tbody tr th:only-of-type {\n",
       "        vertical-align: middle;\n",
       "    }\n",
       "\n",
       "    .dataframe tbody tr th {\n",
       "        vertical-align: top;\n",
       "    }\n",
       "\n",
       "    .dataframe thead th {\n",
       "        text-align: right;\n",
       "    }\n",
       "</style>\n",
       "<table border=\"1\" class=\"dataframe\">\n",
       "  <thead>\n",
       "    <tr style=\"text-align: right;\">\n",
       "      <th></th>\n",
       "      <th>Date</th>\n",
       "      <th>Location</th>\n",
       "      <th>Type</th>\n",
       "      <th>Amount</th>\n",
       "    </tr>\n",
       "  </thead>\n",
       "  <tbody>\n",
       "    <tr>\n",
       "      <th>0</th>\n",
       "      <td>08/21/2019 16:40:21</td>\n",
       "      <td>Import Loaction</td>\n",
       "      <td>Meal</td>\n",
       "      <td>-50</td>\n",
       "    </tr>\n",
       "    <tr>\n",
       "      <th>1</th>\n",
       "      <td>08/21/2019 16:49:48</td>\n",
       "      <td>Import Loaction</td>\n",
       "      <td>Meal</td>\n",
       "      <td>-10</td>\n",
       "    </tr>\n",
       "    <tr>\n",
       "      <th>2</th>\n",
       "      <td>08/23/2019 12:22:01</td>\n",
       "      <td>OHill ValuPort III</td>\n",
       "      <td>Debit</td>\n",
       "      <td>$-20.00</td>\n",
       "    </tr>\n",
       "    <tr>\n",
       "      <th>3</th>\n",
       "      <td>08/23/2019 12:22:08</td>\n",
       "      <td>OHill ValuPort III</td>\n",
       "      <td>Debit</td>\n",
       "      <td>$-20.00</td>\n",
       "    </tr>\n",
       "    <tr>\n",
       "      <th>4</th>\n",
       "      <td>08/23/2019 12:22:23</td>\n",
       "      <td>OHill ValuPort III</td>\n",
       "      <td>Debit</td>\n",
       "      <td>$-20.00</td>\n",
       "    </tr>\n",
       "    <tr>\n",
       "      <th>5</th>\n",
       "      <td>08/23/2019 12:25:51</td>\n",
       "      <td>O-Hill Aero 1 Loc 473</td>\n",
       "      <td>Meal</td>\n",
       "      <td>1</td>\n",
       "    </tr>\n",
       "    <tr>\n",
       "      <th>6</th>\n",
       "      <td>08/23/2019 18:41:53</td>\n",
       "      <td>O-Hill Aero 1 Loc 473</td>\n",
       "      <td>Meal</td>\n",
       "      <td>1</td>\n",
       "    </tr>\n",
       "    <tr>\n",
       "      <th>7</th>\n",
       "      <td>08/24/2019 08:32:16</td>\n",
       "      <td>O-Hill Aero 1 Loc 473</td>\n",
       "      <td>Meal</td>\n",
       "      <td>1</td>\n",
       "    </tr>\n",
       "    <tr>\n",
       "      <th>8</th>\n",
       "      <td>08/24/2019 14:07:13</td>\n",
       "      <td>ChickFilA (4414)</td>\n",
       "      <td>Debit</td>\n",
       "      <td>$7.49</td>\n",
       "    </tr>\n",
       "    <tr>\n",
       "      <th>9</th>\n",
       "      <td>08/24/2019 18:35:32</td>\n",
       "      <td>O-Hill Aero 2 Loc 474</td>\n",
       "      <td>Meal</td>\n",
       "      <td>1</td>\n",
       "    </tr>\n",
       "  </tbody>\n",
       "</table>\n",
       "</div>"
      ],
      "text/plain": [
       "                  Date               Location   Type   Amount\n",
       "0  08/21/2019 16:40:21        Import Loaction   Meal      -50\n",
       "1  08/21/2019 16:49:48        Import Loaction   Meal      -10\n",
       "2  08/23/2019 12:22:01     OHill ValuPort III  Debit  $-20.00\n",
       "3  08/23/2019 12:22:08     OHill ValuPort III  Debit  $-20.00\n",
       "4  08/23/2019 12:22:23     OHill ValuPort III  Debit  $-20.00\n",
       "5  08/23/2019 12:25:51  O-Hill Aero 1 Loc 473   Meal        1\n",
       "6  08/23/2019 18:41:53  O-Hill Aero 1 Loc 473   Meal        1\n",
       "7  08/24/2019 08:32:16  O-Hill Aero 1 Loc 473   Meal        1\n",
       "8  08/24/2019 14:07:13       ChickFilA (4414)  Debit    $7.49\n",
       "9  08/24/2019 18:35:32  O-Hill Aero 2 Loc 474   Meal        1"
      ]
     },
     "execution_count": 7,
     "metadata": {},
     "output_type": "execute_result"
    }
   ],
   "source": [
    "data = {'Date':post_date, 'Location':loc, 'Type':typ, 'Amount':amt}\n",
    "df = pd.DataFrame(data)\n",
    "df.head(10)"
   ]
  },
  {
   "cell_type": "code",
   "execution_count": 11,
   "metadata": {},
   "outputs": [
    {
     "data": {
      "text/plain": [
       "1          308\n",
       "$1.75       20\n",
       "$-20.00      3\n",
       "$7.75        2\n",
       "$7.49        1\n",
       "-50          1\n",
       "$12.00       1\n",
       "$10.08       1\n",
       "-10          1\n",
       "Name: Amount, dtype: int64"
      ]
     },
     "execution_count": 11,
     "metadata": {},
     "output_type": "execute_result"
    }
   ],
   "source": [
    "df['Amount'].value_counts()"
   ]
  },
  {
   "cell_type": "code",
   "execution_count": 5,
   "metadata": {},
   "outputs": [
    {
     "data": {
      "text/plain": [
       "340"
      ]
     },
     "execution_count": 5,
     "metadata": {},
     "output_type": "execute_result"
    }
   ],
   "source": [
    "len(rows)"
   ]
  },
  {
   "cell_type": "code",
   "execution_count": 12,
   "metadata": {},
   "outputs": [
    {
     "data": {
      "text/plain": [
       "<tr class=\"heading\">\n",
       "<th>Post Date</th><th>Location</th><th>Account</th>\n",
       "<th>Type</th> <th>Amount</th>\n",
       "</tr>"
      ]
     },
     "execution_count": 12,
     "metadata": {},
     "output_type": "execute_result"
    }
   ],
   "source": [
    "rows[0]"
   ]
  },
  {
   "cell_type": "code",
   "execution_count": 13,
   "metadata": {},
   "outputs": [
    {
     "data": {
      "text/plain": [
       "<tr class=\"row1\">\n",
       "<td rowspan=\"2\" width=\"140\">08/21/2019 16:40:21</td>\n",
       "<td rowspan=\"2\" width=\"120\">Import Loaction</td>\n",
       "<td width=\"160\">\n",
       "<a href=\"javascript:void(0)\" onclick=\"QuickHistory( 'M2' );\">All Access 7</a>\n",
       "</td>\n",
       "<td width=\"80\">\n",
       "\t\t\t\t\tMeal\n",
       "\t\t\t\t\t\t\t\t\t</td> <td align=\"right\" width=\"60\">-50</td>\n",
       "</tr>"
      ]
     },
     "execution_count": 13,
     "metadata": {},
     "output_type": "execute_result"
    }
   ],
   "source": [
    "rows[1]"
   ]
  },
  {
   "cell_type": "code",
   "execution_count": 14,
   "metadata": {},
   "outputs": [
    {
     "data": {
      "text/plain": [
       "<tr class=\"row1\">\n",
       "<td width=\"160\">\n",
       "<a href=\"javascript:void(0)\" onclick=\"QuickHistory( 'S31' );\">Plus $</a>\n",
       "</td>\n",
       "<td width=\"80\">\n",
       "\t\t\t\t\tDebit\n",
       "\t\t\t\t\t\t\t\t\t</td> <td align=\"right\" width=\"60\">$-150.00</td>\n",
       "</tr>"
      ]
     },
     "execution_count": 14,
     "metadata": {},
     "output_type": "execute_result"
    }
   ],
   "source": [
    "rows[2]"
   ]
  },
  {
   "cell_type": "code",
   "execution_count": null,
   "metadata": {},
   "outputs": [],
   "source": []
  }
 ],
 "metadata": {
  "kernelspec": {
   "display_name": "Python 3",
   "language": "python",
   "name": "python3"
  },
  "language_info": {
   "codemirror_mode": {
    "name": "ipython",
    "version": 3
   },
   "file_extension": ".py",
   "mimetype": "text/x-python",
   "name": "python",
   "nbconvert_exporter": "python",
   "pygments_lexer": "ipython3",
   "version": "3.7.3"
  }
 },
 "nbformat": 4,
 "nbformat_minor": 2
}
