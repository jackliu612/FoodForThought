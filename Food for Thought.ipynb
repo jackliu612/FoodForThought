{
 "cells": [
  {
   "cell_type": "code",
   "execution_count": 1,
   "metadata": {},
   "outputs": [],
   "source": [
    "# Visualizing spending habits with data taken from id card\n",
    "# Started 12/22/2019\n",
    "# Jack Liu"
   ]
  },
  {
   "cell_type": "code",
   "execution_count": 2,
   "metadata": {},
   "outputs": [],
   "source": [
    "# Necessary Imports\n",
    "from bs4 import BeautifulSoup\n",
    "import pandas as pd"
   ]
  },
  {
   "cell_type": "code",
   "execution_count": 3,
   "metadata": {},
   "outputs": [],
   "source": [
    "# Get HTML file\n",
    "with open(\"Transaction History.html\") as fp:\n",
    "    soup = BeautifulSoup(fp)"
   ]
  },
  {
   "cell_type": "code",
   "execution_count": 34,
   "metadata": {},
   "outputs": [],
   "source": [
    "# Appends data to appropriate lists given a row in the table\n",
    "def process_row(row):\n",
    "    cell = rows[i].find_all('td')\n",
    "    if len(cell) == 5:\n",
    "        post_time.append(datetime.strptime(cell[0].string, '%m/%d/%Y %H:%M:%S'))\n",
    "        loc.append(cell[1].string)\n",
    "        typ.append(cell[3].string)\n",
    "        amt.append(cell[4].string)\n",
    "    if len(cell) == 3:\n",
    "        post_date.append(None)\n",
    "        loc.append(None)\n",
    "        post_time.append(None)\n",
    "        typ.append(cell[1].string)\n",
    "        amt.append(cell[2].string)"
   ]
  },
  {
   "cell_type": "code",
   "execution_count": 35,
   "metadata": {
    "scrolled": false
   },
   "outputs": [],
   "source": [
    "# Returns adjusted locations for places that are actually the same or have different names\n",
    "def process_location(s):\n",
    "    t = s.lower()\n",
    "    if 'wash' in t:\n",
    "        return 'Washer'\n",
    "    elif 'dryer' in t:\n",
    "        return 'Dryer'\n",
    "    elif 'castle' in t:\n",
    "        return 'The Castle'\n",
    "    elif 'O-Hill Aero' in s:\n",
    "        return 'O-Hill Dining Hall'\n",
    "    elif 'Runk Dining Aero' in s:\n",
    "        return 'Runk Dining Hall'\n",
    "    elif 'FFC' in s:\n",
    "        return 'Newcomb Dining Hall'\n",
    "    elif 'crossroads' in t:\n",
    "        return 'Crossroads'\n",
    "    elif 'Newcomb Dining To Go' in s:\n",
    "        return 'N2Go'\n",
    "    elif 'Einsteins' in s:\n",
    "        return 'Einsteins Bagels'\n",
    "    elif 'chick' in t:\n",
    "        return 'Chick-Fil-A'\n",
    "    elif 'chik' in t:\n",
    "        return 'Chick-Fil-A'\n",
    "    elif 'subway' in t:\n",
    "        return 'Subway'\n",
    "    elif 'five guys' in t:\n",
    "        return 'Five Guys'\n",
    "    elif 'dumpling' in t:\n",
    "        return 'Dumpling Food Truck'\n",
    "    elif 'ValuPort' in s:\n",
    "        return 'O-Hill Deposit'\n",
    "    else:\n",
    "        return s"
   ]
  },
  {
   "cell_type": "code",
   "execution_count": 36,
   "metadata": {},
   "outputs": [
    {
     "data": {
      "text/html": [
       "<div>\n",
       "<style scoped>\n",
       "    .dataframe tbody tr th:only-of-type {\n",
       "        vertical-align: middle;\n",
       "    }\n",
       "\n",
       "    .dataframe tbody tr th {\n",
       "        vertical-align: top;\n",
       "    }\n",
       "\n",
       "    .dataframe thead th {\n",
       "        text-align: right;\n",
       "    }\n",
       "</style>\n",
       "<table border=\"1\" class=\"dataframe\">\n",
       "  <thead>\n",
       "    <tr style=\"text-align: right;\">\n",
       "      <th></th>\n",
       "      <th>Time</th>\n",
       "      <th>Location</th>\n",
       "      <th>Type</th>\n",
       "      <th>Amount</th>\n",
       "      <th>Adjusted_Loc</th>\n",
       "    </tr>\n",
       "  </thead>\n",
       "  <tbody>\n",
       "    <tr>\n",
       "      <th>0</th>\n",
       "      <td>2019-08-21 16:40:21</td>\n",
       "      <td>Import Loaction</td>\n",
       "      <td>Meal</td>\n",
       "      <td>-50</td>\n",
       "      <td>Import Loaction</td>\n",
       "    </tr>\n",
       "    <tr>\n",
       "      <th>1</th>\n",
       "      <td>2019-08-21 16:40:21</td>\n",
       "      <td>Import Loaction</td>\n",
       "      <td>Debit</td>\n",
       "      <td>$-150.00</td>\n",
       "      <td>Import Loaction</td>\n",
       "    </tr>\n",
       "    <tr>\n",
       "      <th>2</th>\n",
       "      <td>2019-08-21 16:49:48</td>\n",
       "      <td>Import Loaction</td>\n",
       "      <td>Meal</td>\n",
       "      <td>-10</td>\n",
       "      <td>Import Loaction</td>\n",
       "    </tr>\n",
       "    <tr>\n",
       "      <th>3</th>\n",
       "      <td>2019-08-23 12:22:01</td>\n",
       "      <td>OHill ValuPort III</td>\n",
       "      <td>Debit</td>\n",
       "      <td>$-20.00</td>\n",
       "      <td>O-Hill Deposit</td>\n",
       "    </tr>\n",
       "    <tr>\n",
       "      <th>4</th>\n",
       "      <td>2019-08-23 12:22:08</td>\n",
       "      <td>OHill ValuPort III</td>\n",
       "      <td>Debit</td>\n",
       "      <td>$-20.00</td>\n",
       "      <td>O-Hill Deposit</td>\n",
       "    </tr>\n",
       "    <tr>\n",
       "      <th>5</th>\n",
       "      <td>2019-08-23 12:22:23</td>\n",
       "      <td>OHill ValuPort III</td>\n",
       "      <td>Debit</td>\n",
       "      <td>$-20.00</td>\n",
       "      <td>O-Hill Deposit</td>\n",
       "    </tr>\n",
       "    <tr>\n",
       "      <th>6</th>\n",
       "      <td>2019-08-23 12:25:51</td>\n",
       "      <td>O-Hill Aero 1 Loc 473</td>\n",
       "      <td>Meal</td>\n",
       "      <td>1</td>\n",
       "      <td>O-Hill Dining Hall</td>\n",
       "    </tr>\n",
       "    <tr>\n",
       "      <th>7</th>\n",
       "      <td>2019-08-23 18:41:53</td>\n",
       "      <td>O-Hill Aero 1 Loc 473</td>\n",
       "      <td>Meal</td>\n",
       "      <td>1</td>\n",
       "      <td>O-Hill Dining Hall</td>\n",
       "    </tr>\n",
       "    <tr>\n",
       "      <th>8</th>\n",
       "      <td>2019-08-24 08:32:16</td>\n",
       "      <td>O-Hill Aero 1 Loc 473</td>\n",
       "      <td>Meal</td>\n",
       "      <td>1</td>\n",
       "      <td>O-Hill Dining Hall</td>\n",
       "    </tr>\n",
       "    <tr>\n",
       "      <th>9</th>\n",
       "      <td>2019-08-24 14:07:13</td>\n",
       "      <td>ChickFilA (4414)</td>\n",
       "      <td>Debit</td>\n",
       "      <td>$7.49</td>\n",
       "      <td>Chick-Fil-A</td>\n",
       "    </tr>\n",
       "  </tbody>\n",
       "</table>\n",
       "</div>"
      ],
      "text/plain": [
       "                 Time               Location                   Type    Amount  \\\n",
       "0 2019-08-21 16:40:21        Import Loaction   \n",
       "\t\t\t\t\tMeal\n",
       "\t\t\t\t\t\t\t\t\t       -50   \n",
       "1 2019-08-21 16:40:21        Import Loaction  \n",
       "\t\t\t\t\tDebit\n",
       "\t\t\t\t\t\t\t\t\t  $-150.00   \n",
       "2 2019-08-21 16:49:48        Import Loaction   \n",
       "\t\t\t\t\tMeal\n",
       "\t\t\t\t\t\t\t\t\t       -10   \n",
       "3 2019-08-23 12:22:01     OHill ValuPort III  \n",
       "\t\t\t\t\tDebit\n",
       "\t\t\t\t\t\t\t\t\t   $-20.00   \n",
       "4 2019-08-23 12:22:08     OHill ValuPort III  \n",
       "\t\t\t\t\tDebit\n",
       "\t\t\t\t\t\t\t\t\t   $-20.00   \n",
       "5 2019-08-23 12:22:23     OHill ValuPort III  \n",
       "\t\t\t\t\tDebit\n",
       "\t\t\t\t\t\t\t\t\t   $-20.00   \n",
       "6 2019-08-23 12:25:51  O-Hill Aero 1 Loc 473   \n",
       "\t\t\t\t\tMeal\n",
       "\t\t\t\t\t\t\t\t\t         1   \n",
       "7 2019-08-23 18:41:53  O-Hill Aero 1 Loc 473   \n",
       "\t\t\t\t\tMeal\n",
       "\t\t\t\t\t\t\t\t\t         1   \n",
       "8 2019-08-24 08:32:16  O-Hill Aero 1 Loc 473   \n",
       "\t\t\t\t\tMeal\n",
       "\t\t\t\t\t\t\t\t\t         1   \n",
       "9 2019-08-24 14:07:13       ChickFilA (4414)  \n",
       "\t\t\t\t\tDebit\n",
       "\t\t\t\t\t\t\t\t\t     $7.49   \n",
       "\n",
       "         Adjusted_Loc  \n",
       "0     Import Loaction  \n",
       "1     Import Loaction  \n",
       "2     Import Loaction  \n",
       "3      O-Hill Deposit  \n",
       "4      O-Hill Deposit  \n",
       "5      O-Hill Deposit  \n",
       "6  O-Hill Dining Hall  \n",
       "7  O-Hill Dining Hall  \n",
       "8  O-Hill Dining Hall  \n",
       "9         Chick-Fil-A  "
      ]
     },
     "execution_count": 36,
     "metadata": {},
     "output_type": "execute_result"
    }
   ],
   "source": [
    "post_time = []\n",
    "loc = []\n",
    "typ = []\n",
    "amt = []\n",
    "\n",
    "rows = soup.find('div', id='divHist').find('tbody').find_all('tr')\n",
    "for i in range(1,len(rows)):\n",
    "    process_row(rows[i])\n",
    "\n",
    "data = {'Time':post_time, 'Location':loc, 'Type':typ, 'Amount':amt}\n",
    "df = pd.DataFrame(data).fillna(method='ffill')\n",
    "df['Adjusted_Loc'] = df['Location'].apply(process_location)\n",
    "df.head(10)"
   ]
  },
  {
   "cell_type": "code",
   "execution_count": 20,
   "metadata": {},
   "outputs": [],
   "source": [
    "from datetime import datetime"
   ]
  },
  {
   "cell_type": "code",
   "execution_count": 27,
   "metadata": {},
   "outputs": [],
   "source": [
    "tim = '08/24/2019 14:07:13'\n",
    "timm = '08/24/2019'"
   ]
  },
  {
   "cell_type": "code",
   "execution_count": 31,
   "metadata": {},
   "outputs": [],
   "source": [
    "d = datetime.strptime(tim, '%m/%d/%Y %H:%M:%S')"
   ]
  },
  {
   "cell_type": "code",
   "execution_count": 33,
   "metadata": {},
   "outputs": [
    {
     "data": {
      "text/plain": [
       "5"
      ]
     },
     "execution_count": 33,
     "metadata": {},
     "output_type": "execute_result"
    }
   ],
   "source": [
    "d.weekday()"
   ]
  },
  {
   "cell_type": "code",
   "execution_count": 60,
   "metadata": {},
   "outputs": [
    {
     "name": "stdout",
     "output_type": "stream",
     "text": [
      "11\n"
     ]
    }
   ],
   "source": [
    "count = 0\n",
    "for i in df.iloc[:,0]:\n",
    "    if i.hour>22 or i.hour<2:\n",
    "        count+=1\n",
    "print(count)"
   ]
  },
  {
   "cell_type": "code",
   "execution_count": 61,
   "metadata": {},
   "outputs": [
    {
     "name": "stdout",
     "output_type": "stream",
     "text": [
      "2019-09-07 22:23:54\n",
      "2019-09-08 21:09:33\n",
      "2019-09-16 22:32:41\n",
      "2019-09-23 21:28:17\n",
      "2019-09-23 22:19:54\n",
      "2019-10-01 21:37:22\n",
      "2019-10-12 22:25:44\n",
      "2019-10-13 21:39:02\n",
      "2019-10-15 21:38:17\n",
      "2019-10-20 22:29:03\n",
      "2019-10-21 22:39:59\n",
      "2019-10-22 22:13:46\n",
      "2019-10-28 21:48:41\n",
      "2019-11-11 22:03:20\n",
      "2019-11-11 22:52:11\n",
      "0\n"
     ]
    }
   ],
   "source": [
    "count = 0\n",
    "for i in df.iloc[:,0]:\n",
    "    if i.hour>20 and i.hour<23:\n",
    "        print(i)\n",
    "print(count)"
   ]
  },
  {
   "cell_type": "code",
   "execution_count": 62,
   "metadata": {},
   "outputs": [
    {
     "data": {
      "text/plain": [
       "O-Hill Dining Hall           134\n",
       "Newcomb Dining Hall           74\n",
       "Einsteins Bagels              26\n",
       "Crossroads                    18\n",
       "Runk Dining Hall              17\n",
       "The Castle                    16\n",
       "N2Go                          11\n",
       "Washer                        10\n",
       "Dryer                         10\n",
       "Chick-Fil-A                   10\n",
       "O-Hill Deposit                 3\n",
       "Import Loaction                3\n",
       "Dumpling Food Truck            2\n",
       "Farmer's Market - Tapingo      1\n",
       "Residential-DomeorSpecial      1\n",
       "West Range Cafe                1\n",
       "Subway                         1\n",
       "Five Guys                      1\n",
       "Name: Adjusted_Loc, dtype: int64"
      ]
     },
     "execution_count": 62,
     "metadata": {},
     "output_type": "execute_result"
    }
   ],
   "source": [
    "df['Adjusted_Loc'].value_counts()"
   ]
  },
  {
   "cell_type": "code",
   "execution_count": null,
   "metadata": {},
   "outputs": [],
   "source": []
  }
 ],
 "metadata": {
  "kernelspec": {
   "display_name": "Python 3",
   "language": "python",
   "name": "python3"
  },
  "language_info": {
   "codemirror_mode": {
    "name": "ipython",
    "version": 3
   },
   "file_extension": ".py",
   "mimetype": "text/x-python",
   "name": "python",
   "nbconvert_exporter": "python",
   "pygments_lexer": "ipython3",
   "version": "3.7.3"
  }
 },
 "nbformat": 4,
 "nbformat_minor": 2
}
