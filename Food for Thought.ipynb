{
 "cells": [
  {
   "cell_type": "code",
   "execution_count": null,
   "metadata": {},
   "outputs": [],
   "source": [
    "# Visualizing spending habits with data taken from id card\n",
    "# Started 12/22/2019\n",
    "# Jack Liu"
   ]
  },
  {
   "cell_type": "code",
   "execution_count": null,
   "metadata": {},
   "outputs": [],
   "source": [
    "# Necessary Imports\n",
    "from bs4 import BeautifulSoup\n",
    "import pandas as pd\n",
    "from datetime import datetime"
   ]
  },
  {
   "cell_type": "code",
   "execution_count": null,
   "metadata": {},
   "outputs": [],
   "source": [
    "# Appends data to appropriate lists given a row in the table\n",
    "def process_row(row, data):\n",
    "    cell = row.find_all('td')\n",
    "    if len(cell) == 5:\n",
    "        data['Time'].append(datetime.strptime(cell[0].string, '%m/%d/%Y %H:%M:%S'))\n",
    "        data['Location'].append(cell[1].string)\n",
    "        data['Type'].append(cell[3].string)\n",
    "        data['Amount'].append(cell[4].string)\n",
    "    if len(cell) == 3:\n",
    "        data['Time'].append(None)\n",
    "        data['Location'].append(None)\n",
    "        data['Type'].append(cell[1].string)\n",
    "        data['Amount'].append(cell[2].string)"
   ]
  },
  {
   "cell_type": "code",
   "execution_count": null,
   "metadata": {
    "scrolled": false
   },
   "outputs": [],
   "source": [
    "# Returns adjusted locations for places that are actually the same or have different names\n",
    "def process_location(s):\n",
    "    t = s.lower()\n",
    "    if 'wash' in t:\n",
    "        return 'Washer'\n",
    "    elif 'dryer' in t:\n",
    "        return 'Dryer'\n",
    "    elif 'castle' in t:\n",
    "        return 'The Castle'\n",
    "    elif 'O-Hill Aero' in s:\n",
    "        return 'O-Hill Dining Hall'\n",
    "    elif 'Runk Dining Aero' in s:\n",
    "        return 'Runk Dining Hall'\n",
    "    elif 'FFC' in s:\n",
    "        return 'Newcomb Dining Hall'\n",
    "    elif 'crossroads' in t:\n",
    "        return 'Crossroads'\n",
    "    elif 'Newcomb Dining To Go' in s:\n",
    "        return 'N2Go'\n",
    "    elif 'Einsteins' in s:\n",
    "        return 'Einsteins Bagels'\n",
    "    elif 'chick' in t:\n",
    "        return 'Chick-Fil-A'\n",
    "    elif 'chik' in t:\n",
    "        return 'Chick-Fil-A'\n",
    "    elif 'subway' in t:\n",
    "        return 'Subway'\n",
    "    elif 'five guys' in t:\n",
    "        return 'Five Guys'\n",
    "    elif 'dumpling' in t:\n",
    "        return 'Dumpling Food Truck'\n",
    "    elif 'ValuPort' in s:\n",
    "        return 'O-Hill Deposit'\n",
    "    else:\n",
    "        return s"
   ]
  },
  {
   "cell_type": "code",
   "execution_count": null,
   "metadata": {},
   "outputs": [],
   "source": [
    "# Used for .apply in pandas to add a weekday column to df\n",
    "def add_weekday(day):\n",
    "    return day.weekday()"
   ]
  },
  {
   "cell_type": "code",
   "execution_count": null,
   "metadata": {},
   "outputs": [],
   "source": [
    "# Determining what meal it is\n",
    "def meal_cat(t):\n",
    "    if t.hour<4:\n",
    "        return 'Late Night'\n",
    "    elif t.hour<12:\n",
    "        return 'Breakfast'\n",
    "    elif t.hour<15:\n",
    "        return 'Lunch'\n",
    "    elif t.hour<21:\n",
    "        return 'Dinner'\n",
    "    else:\n",
    "        return 'Late Night'"
   ]
  },
  {
   "cell_type": "code",
   "execution_count": null,
   "metadata": {},
   "outputs": [],
   "source": [
    "# Returns the time in seconds from HH:mm:ss\n",
    "def time_in_day(t):\n",
    "    return t.hour*60*60+t.minute*60+t.second"
   ]
  },
  {
   "cell_type": "code",
   "execution_count": 1,
   "metadata": {},
   "outputs": [],
   "source": [
    "# Loads data from a file\n",
    "def load_data(filepath):\n",
    "    # Instantiating lists\n",
    "    post_time = []\n",
    "    loc = []\n",
    "    typ = []\n",
    "    amt = []\n",
    "    data = {'Time':post_time, 'Location':loc, 'Type':typ, 'Amount':amt}\n",
    "\n",
    "    # Get HTML file\n",
    "    with open(filepath) as fp:\n",
    "        soup = BeautifulSoup(fp)\n",
    "\n",
    "    # Finding table elements\n",
    "    rows = soup.find('div', id='divHist').find('tbody').find_all('tr')\n",
    "    for i in range(1,len(rows)):\n",
    "        process_row(rows[i], data)\n",
    "\n",
    "    # Creating dataframe\n",
    "    # Forwardfill Nulls\n",
    "    df = pd.DataFrame(data).fillna(method='ffill')\n",
    "    df['Adjusted_Loc'] = df['Location'].apply(process_location)\n",
    "    df['Weekday'] = df['Time'].apply(add_weekday)\n",
    "    df['Meal'] = df['Time'].apply(meal_cat)\n",
    "    df['ToD'] = df['Time'].apply(time_in_day)\n",
    "    return df"
   ]
  },
  {
   "cell_type": "code",
   "execution_count": null,
   "metadata": {},
   "outputs": [],
   "source": [
    "df = load_data"
   ]
  },
  {
   "cell_type": "code",
   "execution_count": null,
   "metadata": {},
   "outputs": [],
   "source": [
    "count = 0\n",
    "for i in df.iloc[:,0]:\n",
    "    if i.hour>22 or i.hour<2:\n",
    "        count+=1\n",
    "print(count)"
   ]
  },
  {
   "cell_type": "code",
   "execution_count": null,
   "metadata": {},
   "outputs": [],
   "source": [
    "for i in df.iloc[:,0]:\n",
    "    if i.hour>20 and i.hour<23:\n",
    "        print(i)"
   ]
  },
  {
   "cell_type": "code",
   "execution_count": null,
   "metadata": {},
   "outputs": [],
   "source": [
    "import matplotlib.pyplot as plt"
   ]
  },
  {
   "cell_type": "code",
   "execution_count": null,
   "metadata": {},
   "outputs": [],
   "source": [
    "mon = df[(df['Weekday']==0)]"
   ]
  },
  {
   "cell_type": "code",
   "execution_count": null,
   "metadata": {},
   "outputs": [],
   "source": [
    "mon"
   ]
  },
  {
   "cell_type": "code",
   "execution_count": null,
   "metadata": {},
   "outputs": [],
   "source": [
    "for i in mon.iloc[:,0]:\n",
    "    if i.hour<12:\n",
    "        print(i)"
   ]
  },
  {
   "cell_type": "code",
   "execution_count": null,
   "metadata": {},
   "outputs": [],
   "source": []
  }
 ],
 "metadata": {
  "kernelspec": {
   "display_name": "Python 3",
   "language": "python",
   "name": "python3"
  },
  "language_info": {
   "codemirror_mode": {
    "name": "ipython",
    "version": 3
   },
   "file_extension": ".py",
   "mimetype": "text/x-python",
   "name": "python",
   "nbconvert_exporter": "python",
   "pygments_lexer": "ipython3",
   "version": "3.7.3"
  }
 },
 "nbformat": 4,
 "nbformat_minor": 2
}
